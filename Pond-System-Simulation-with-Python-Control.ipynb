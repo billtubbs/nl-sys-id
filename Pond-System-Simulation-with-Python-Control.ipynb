{
 "cells": [
  {
   "cell_type": "markdown",
   "id": "74229e1f",
   "metadata": {},
   "source": [
    "# Simulation of Pond System using Python-Control"
   ]
  },
  {
   "cell_type": "code",
   "execution_count": 15,
   "id": "b33d1348",
   "metadata": {},
   "outputs": [
    {
     "data": {
      "text/plain": [
       "'0.9.1'"
      ]
     },
     "execution_count": 15,
     "metadata": {},
     "output_type": "execute_result"
    }
   ],
   "source": [
    "import numpy as np\n",
    "import matplotlib.pyplot as plt\n",
    "from control import input_output_response, NonlinearIOSystem\n",
    "\n",
    "import control\n",
    "control.__version__"
   ]
  },
  {
   "cell_type": "code",
   "execution_count": 16,
   "id": "44549230",
   "metadata": {},
   "outputs": [
    {
     "data": {
      "text/plain": [
       "'3.9.12'"
      ]
     },
     "execution_count": 16,
     "metadata": {},
     "output_type": "execute_result"
    }
   ],
   "source": [
    "from platform import python_version\n",
    "python_version()"
   ]
  },
  {
   "cell_type": "code",
   "execution_count": 2,
   "id": "62066aba",
   "metadata": {},
   "outputs": [],
   "source": [
    "from pond_model_eqns import f, g, params, u_nop, x_nop"
   ]
  },
  {
   "cell_type": "code",
   "execution_count": 6,
   "id": "d4bcbafd",
   "metadata": {},
   "outputs": [
    {
     "name": "stdout",
     "output_type": "stream",
     "text": [
      "Help on function f in module pond_model_eqns:\n",
      "\n",
      "f(t, x, u, params)\n",
      "    Continuous-time dynamics\n",
      "\n"
     ]
    }
   ],
   "source": [
    "help(f)"
   ]
  },
  {
   "cell_type": "code",
   "execution_count": 7,
   "id": "8703fe47",
   "metadata": {},
   "outputs": [
    {
     "name": "stdout",
     "output_type": "stream",
     "text": [
      "Help on function g in module pond_model_eqns:\n",
      "\n",
      "g(t, x, u, params)\n",
      "    Measurement function\n",
      "\n"
     ]
    }
   ],
   "source": [
    "help(g)"
   ]
  },
  {
   "cell_type": "code",
   "execution_count": 17,
   "id": "359623de",
   "metadata": {},
   "outputs": [
    {
     "name": "stdout",
     "output_type": "stream",
     "text": [
      "System: Pond flow model\n",
      "Inputs (1): Flow in (m^3/s), \n",
      "Outputs (1): Head on weir (m^3/s), \n",
      "States (None): \n"
     ]
    }
   ],
   "source": [
    "sys = NonlinearIOSystem(f, outfcn=g, params=params, inputs=('Flow in (m^3/s)'), \n",
    "                        outputs=('Head on weir (m^3/s)'), name='Pond flow model')\n",
    "print(sys)"
   ]
  },
  {
   "cell_type": "code",
   "execution_count": 23,
   "id": "c7bcf433",
   "metadata": {},
   "outputs": [
    {
     "ename": "ValueError",
     "evalue": "could not broadcast input array from shape (0,) into shape (1,)",
     "output_type": "error",
     "traceback": [
      "\u001b[0;31m---------------------------------------------------------------------------\u001b[0m",
      "\u001b[0;31mValueError\u001b[0m                                Traceback (most recent call last)",
      "Input \u001b[0;32mIn [23]\u001b[0m, in \u001b[0;36m<cell line: 5>\u001b[0;34m()\u001b[0m\n\u001b[1;32m      3\u001b[0m U[t \u001b[38;5;241m>\u001b[39m \u001b[38;5;241m60\u001b[39m] \u001b[38;5;241m=\u001b[39m \u001b[38;5;241m1\u001b[39m\n\u001b[1;32m      4\u001b[0m \u001b[38;5;28;01massert\u001b[39;00m(U\u001b[38;5;241m.\u001b[39mshape \u001b[38;5;241m==\u001b[39m t\u001b[38;5;241m.\u001b[39mshape)\n\u001b[0;32m----> 5\u001b[0m sim_out \u001b[38;5;241m=\u001b[39m \u001b[43minput_output_response\u001b[49m\u001b[43m(\u001b[49m\u001b[43msys\u001b[49m\u001b[43m,\u001b[49m\u001b[43m \u001b[49m\u001b[43mT\u001b[49m\u001b[43m,\u001b[49m\u001b[43m \u001b[49m\u001b[43mU\u001b[49m\u001b[43m,\u001b[49m\u001b[43m \u001b[49m\u001b[43mparams\u001b[49m\u001b[38;5;241;43m=\u001b[39;49m\u001b[43mparams\u001b[49m\u001b[43m)\u001b[49m\n",
      "File \u001b[0;32m~/anaconda3/envs/torch/lib/python3.9/site-packages/control/iosys.py:1832\u001b[0m, in \u001b[0;36minput_output_response\u001b[0;34m(sys, T, U, X0, params, transpose, return_x, squeeze, solve_ivp_kwargs, **kwargs)\u001b[0m\n\u001b[1;32m   1830\u001b[0m     \u001b[38;5;28;01mfor\u001b[39;00m i \u001b[38;5;129;01min\u001b[39;00m \u001b[38;5;28mrange\u001b[39m(\u001b[38;5;28mlen\u001b[39m(T)):\n\u001b[1;32m   1831\u001b[0m         u \u001b[38;5;241m=\u001b[39m U[i] \u001b[38;5;28;01mif\u001b[39;00m \u001b[38;5;28mlen\u001b[39m(U\u001b[38;5;241m.\u001b[39mshape) \u001b[38;5;241m==\u001b[39m \u001b[38;5;241m1\u001b[39m \u001b[38;5;28;01melse\u001b[39;00m U[:, i]\n\u001b[0;32m-> 1832\u001b[0m         y[:, i] \u001b[38;5;241m=\u001b[39m sys\u001b[38;5;241m.\u001b[39m_out(T[i], [], u)\n\u001b[1;32m   1833\u001b[0m     \u001b[38;5;28;01mreturn\u001b[39;00m TimeResponseData(\n\u001b[1;32m   1834\u001b[0m         T, y, \u001b[38;5;28;01mNone\u001b[39;00m, U, issiso\u001b[38;5;241m=\u001b[39msys\u001b[38;5;241m.\u001b[39missiso(),\n\u001b[1;32m   1835\u001b[0m         output_labels\u001b[38;5;241m=\u001b[39msys\u001b[38;5;241m.\u001b[39moutput_index, input_labels\u001b[38;5;241m=\u001b[39msys\u001b[38;5;241m.\u001b[39minput_index,\n\u001b[1;32m   1836\u001b[0m         transpose\u001b[38;5;241m=\u001b[39mtranspose, return_x\u001b[38;5;241m=\u001b[39mreturn_x, squeeze\u001b[38;5;241m=\u001b[39msqueeze)\n\u001b[1;32m   1838\u001b[0m \u001b[38;5;66;03m# create X0 if not given, test if X0 has correct shape\u001b[39;00m\n",
      "\u001b[0;31mValueError\u001b[0m: could not broadcast input array from shape (0,) into shape (1,)"
     ]
    }
   ],
   "source": [
    "T = np.linspace(0, 5*60, 51)\n",
    "U = np.zeros(T.shape)\n",
    "U[t > 60] = 1\n",
    "assert(U.shape == t.shape)\n",
    "sim_out = input_output_response(sys, T, U, params=params)"
   ]
  },
  {
   "cell_type": "code",
   "execution_count": 14,
   "id": "d635321b",
   "metadata": {},
   "outputs": [
    {
     "data": {
      "text/plain": [
       "(51,)"
      ]
     },
     "execution_count": 14,
     "metadata": {},
     "output_type": "execute_result"
    }
   ],
   "source": [
    "U.shape"
   ]
  },
  {
   "cell_type": "code",
   "execution_count": null,
   "id": "eed7b3d7",
   "metadata": {},
   "outputs": [],
   "source": [
    "help(input_output_response)"
   ]
  },
  {
   "cell_type": "code",
   "execution_count": null,
   "id": "95fe2168",
   "metadata": {},
   "outputs": [],
   "source": []
  },
  {
   "cell_type": "code",
   "execution_count": null,
   "id": "428e24b2",
   "metadata": {},
   "outputs": [],
   "source": []
  },
  {
   "cell_type": "code",
   "execution_count": null,
   "id": "517b68fb",
   "metadata": {},
   "outputs": [],
   "source": []
  },
  {
   "cell_type": "code",
   "execution_count": null,
   "id": "e7e2f575",
   "metadata": {},
   "outputs": [],
   "source": []
  },
  {
   "cell_type": "code",
   "execution_count": null,
   "id": "f510d71b",
   "metadata": {},
   "outputs": [],
   "source": []
  }
 ],
 "metadata": {
  "kernelspec": {
   "display_name": "Python [conda env:torch]",
   "language": "python",
   "name": "conda-env-torch-py"
  },
  "language_info": {
   "codemirror_mode": {
    "name": "ipython",
    "version": 3
   },
   "file_extension": ".py",
   "mimetype": "text/x-python",
   "name": "python",
   "nbconvert_exporter": "python",
   "pygments_lexer": "ipython3",
   "version": "3.9.12"
  }
 },
 "nbformat": 4,
 "nbformat_minor": 5
}
