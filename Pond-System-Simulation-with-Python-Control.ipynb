{
 "cells": [
  {
   "cell_type": "markdown",
   "id": "74229e1f",
   "metadata": {},
   "source": [
    "# Simulation of pond system using Python-Control functions"
   ]
  },
  {
   "cell_type": "code",
   "execution_count": 1,
   "id": "b33d1348",
   "metadata": {},
   "outputs": [
    {
     "data": {
      "text/plain": [
       "'0.9.1'"
      ]
     },
     "execution_count": 1,
     "metadata": {},
     "output_type": "execute_result"
    }
   ],
   "source": [
    "import numpy as np\n",
    "import matplotlib.pyplot as plt\n",
    "from control import input_output_response, NonlinearIOSystem\n",
    "\n",
    "import control\n",
    "control.__version__"
   ]
  },
  {
   "cell_type": "code",
   "execution_count": 2,
   "id": "44549230",
   "metadata": {},
   "outputs": [
    {
     "data": {
      "text/plain": [
       "'3.9.12'"
      ]
     },
     "execution_count": 2,
     "metadata": {},
     "output_type": "execute_result"
    }
   ],
   "source": [
    "from platform import python_version\n",
    "python_version()"
   ]
  },
  {
   "cell_type": "code",
   "execution_count": 3,
   "id": "62066aba",
   "metadata": {},
   "outputs": [],
   "source": [
    "from pond_model_eqns import f, g, params, u_nop, x_nop"
   ]
  },
  {
   "cell_type": "code",
   "execution_count": 4,
   "id": "d4bcbafd",
   "metadata": {},
   "outputs": [
    {
     "name": "stdout",
     "output_type": "stream",
     "text": [
      "Help on function f in module pond_model_eqns:\n",
      "\n",
      "f(t, x, u, params)\n",
      "    Continuous-time state-space model - dynamics function\n",
      "    \n",
      "        d/dt(x[t]) = f(x[t], u[t])\n",
      "    \n",
      "    Arguments\n",
      "    ---------\n",
      "    x : list or array\n",
      "        State vector\n",
      "    u : list or array\n",
      "        Input vector\n",
      "\n"
     ]
    }
   ],
   "source": [
    "help(f)"
   ]
  },
  {
   "cell_type": "code",
   "execution_count": 5,
   "id": "8703fe47",
   "metadata": {},
   "outputs": [
    {
     "name": "stdout",
     "output_type": "stream",
     "text": [
      "Help on function g in module pond_model_eqns:\n",
      "\n",
      "g(t, x, u, params)\n",
      "    State-space model - measurement function\n",
      "    \n",
      "        y[t] = g(x[t], u[t])\n",
      "    \n",
      "    Arguments\n",
      "    ---------\n",
      "    x : list or array\n",
      "        State vector\n",
      "    u : list or array\n",
      "        Input vector\n",
      "\n"
     ]
    }
   ],
   "source": [
    "help(g)"
   ]
  },
  {
   "cell_type": "code",
   "execution_count": 6,
   "id": "359623de",
   "metadata": {},
   "outputs": [
    {
     "name": "stdout",
     "output_type": "stream",
     "text": [
      "System: Pond flow model\n",
      "Inputs (1): Flow in (m^3/s), \n",
      "Outputs (1): Head on weir (m^3/s), \n",
      "States (1): Head on weir (m^3/s), \n"
     ]
    }
   ],
   "source": [
    "sys = NonlinearIOSystem(f, outfcn=None, params=params, inputs=('Flow in (m^3/s)'), \n",
    "                        outputs=('Head on weir (m^3/s)'), states=('Head on weir (m^3/s)'),\n",
    "                        name='Pond flow model')\n",
    "print(sys)"
   ]
  },
  {
   "cell_type": "code",
   "execution_count": 39,
   "id": "c7bcf433",
   "metadata": {},
   "outputs": [
    {
     "data": {
      "image/png": "[encoded data removed]",
      "text/plain": [
       "<Figure size 432x288 with 1 Axes>"
      ]
     },
     "metadata": {
      "needs_background": "light"
     },
     "output_type": "display_data"
    }
   ],
   "source": [
    "T = np.linspace(0, 60*60, 61)\n",
    "U = np.zeros(T.shape, dtype=float)\n",
    "U[T >= 0] = 0.5\n",
    "x0 = [0]  # initial head\n",
    "assert(U.shape == T.shape)\n",
    "sim_out = input_output_response(sys, T, [U], x0, params=params)\n",
    "\n",
    "plt.plot(sim_out.t, sim_out.y[0, :])\n",
    "plt.xlabel('t')\n",
    "plt.ylabel('y(t)')\n",
    "plt.grid()"
   ]
  },
  {
   "cell_type": "code",
   "execution_count": 40,
   "id": "d635321b",
   "metadata": {},
   "outputs": [
    {
     "data": {
      "text/plain": [
       "array([0.5, 0.5, 0.5, 0.5, 0.5, 0.5, 0.5, 0.5, 0.5, 0.5, 0.5, 0.5, 0.5,\n",
       "       0.5, 0.5, 0.5, 0.5, 0.5, 0.5, 0.5, 0.5, 0.5, 0.5, 0.5, 0.5, 0.5,\n",
       "       0.5, 0.5, 0.5, 0.5, 0.5, 0.5, 0.5, 0.5, 0.5, 0.5, 0.5, 0.5, 0.5,\n",
       "       0.5, 0.5, 0.5, 0.5, 0.5, 0.5, 0.5, 0.5, 0.5, 0.5, 0.5, 0.5, 0.5,\n",
       "       0.5, 0.5, 0.5, 0.5, 0.5, 0.5, 0.5, 0.5, 0.5])"
      ]
     },
     "execution_count": 40,
     "metadata": {},
     "output_type": "execute_result"
    }
   ],
   "source": [
    "U"
   ]
  },
  {
   "cell_type": "code",
   "execution_count": null,
   "id": "eed7b3d7",
   "metadata": {},
   "outputs": [],
   "source": []
  },
  {
   "cell_type": "code",
   "execution_count": null,
   "id": "95fe2168",
   "metadata": {},
   "outputs": [],
   "source": []
  },
  {
   "cell_type": "code",
   "execution_count": null,
   "id": "428e24b2",
   "metadata": {},
   "outputs": [],
   "source": []
  },
  {
   "cell_type": "code",
   "execution_count": null,
   "id": "517b68fb",
   "metadata": {},
   "outputs": [],
   "source": []
  },
  {
   "cell_type": "code",
   "execution_count": null,
   "id": "e7e2f575",
   "metadata": {},
   "outputs": [],
   "source": []
  },
  {
   "cell_type": "code",
   "execution_count": null,
   "id": "f510d71b",
   "metadata": {},
   "outputs": [],
   "source": []
  }
 ],
 "metadata": {
  "kernelspec": {
   "display_name": "Python [conda env:torch]",
   "language": "python",
   "name": "conda-env-torch-py"
  },
  "language_info": {
   "codemirror_mode": {
    "name": "ipython",
    "version": 3
   },
   "file_extension": ".py",
   "mimetype": "text/x-python",
   "name": "python",
   "nbconvert_exporter": "python",
   "pygments_lexer": "ipython3",
   "version": "3.9.12"
  }
 },
 "nbformat": 4,
 "nbformat_minor": 5
}
