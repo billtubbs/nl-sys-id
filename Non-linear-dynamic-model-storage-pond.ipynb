{
 "cells": [
  {
   "cell_type": "markdown",
   "id": "bd1f158f",
   "metadata": {},
   "source": [
    "# Non-Linear Dynamic Model of a Storage Pond"
   ]
  },
  {
   "cell_type": "code",
   "execution_count": 1,
   "id": "67552307",
   "metadata": {},
   "outputs": [],
   "source": [
    "import numpy as np\n",
    "import matplotlib.pyplot as plt\n",
    "from scipy.optimize import minimize\n",
    "from scipy.integrate import solve_ivp\n",
    "from scipy.interpolate import interp1d"
   ]
  },
  {
   "cell_type": "markdown",
   "id": "7ad03765",
   "metadata": {},
   "source": [
    "Note:\n",
    "- This model was my idea of how to model a shallow, conical-shaped storage pond. I don't know if it is the best way or how realistic it is."
   ]
  },
  {
   "cell_type": "markdown",
   "id": "29264ed9",
   "metadata": {},
   "source": [
    "## Model equations\n",
    "\n",
    "Volume of water in a conical storage pond:\n",
    "\n",
    "\\begin{align}\n",
    "V & = \\pi R^2 \\frac{h_2}{3} \\\\\n",
    "  & = \\pi \\left( \\frac{h_2}{\\tan{\\alpha}} \\right) ^ 2 \\frac{h_2}{3} \\\\\n",
    "  & = \\frac{\\pi}{3 \\tan^2{\\alpha}} h_2^3 \\\\\n",
    "\\end{align}\n",
    "\n",
    "where\n",
    "\n",
    "\\begin{align}\n",
    "    V & : \\text{volume } (m^3) \\\\\n",
    "    R & : \\text{radius at water level } (m) \\\\\n",
    "    \\alpha & : \\text{inclination of pond walls from horizontal } (deg) \\\\\n",
    "    h_2 & : \\text{depth at deepest point } (m)\n",
    "\\end{align}\n",
    "\n"
   ]
  },
  {
   "cell_type": "markdown",
   "id": "904c3580",
   "metadata": {},
   "source": [
    "Francis Formula for rectangular weir flow:\n",
    "\n",
    "$$q_2 = 3.33 (b - 0.2 h_1) h_1^{\\frac{3}{2}}$$\n",
    "\n",
    "where\n",
    "\n",
    "\\begin{align}\n",
    "    q_2 & : \\text{flow rate } (m^3/s) \\\\\n",
    "    h_1 & : \\text{head on the weir } (m) \\\\\n",
    "    b & : \\text{width of the weir } (m)\n",
    "\\end{align}\n",
    "\n",
    "Notes:\n",
    "1. This is an empirical model based on measurements\n",
    "2. Provides a reasonable approximation in the range $0 < h_1 < b/3$\n",
    "3. $q_2=0$ for all $h_1 < 0$."
   ]
  },
  {
   "cell_type": "markdown",
   "id": "f36f5faa",
   "metadata": {},
   "source": [
    "Mass balance equation:\n",
    "\n",
    "\\begin{align}\n",
    "\\text{flow in } - \\text{flow out } & = \\text{rate of change of volume } \\\\\n",
    "q_1 - q_2 & = \\frac{\\partial V}{\\partial t} \\\\\n",
    "          & = \\frac{\\partial}{\\partial t} \\left( \\frac{\\pi}{3 \\tan^2{\\alpha}} h_2^3 \\right) \\\\ \n",
    "q_1 - 3.33 (b - 0.2 h_1) h_1^{\\frac{3}{2}} & = \\frac{\\pi}{\\tan^2{\\alpha}} h_2^2 \\dot{h_2}\n",
    "\\end{align}\n",
    "\n",
    "where\n",
    "\n",
    "\\begin{align}\n",
    "\\dot{h_2} & : \\text{rate of change of depth } (m/s) \\\\\n",
    "q_1 & : \\text{water addition rate } (m^3/s)\n",
    "\\end{align}\n",
    "\n",
    "\n",
    "Define:\n",
    "\\begin{align}\n",
    "d = h_2 - h_1 & : \\text{height of weir from deepest point } (m)\n",
    "\\end{align}\n",
    "\n",
    "The ODE of the system is:\n",
    "\n",
    "\\begin{align}\n",
    "3.33 (b - 0.2 h_1) h_1^{\\frac{3}{2}} + \\frac{\\pi}{\\tan^2{\\alpha}} (h_1 + d)^2 \\dot{h_1} - q_1 = 0\n",
    "\\end{align}"
   ]
  },
  {
   "cell_type": "markdown",
   "id": "12d4fdae",
   "metadata": {},
   "source": [
    "References:\n",
    "- Open Channel Weirs - Volume Flow Measurements, The Engineering ToolBox, https://www.engineeringtoolbox.com/weirs-flow-rate-d_592.html"
   ]
  },
  {
   "cell_type": "markdown",
   "id": "6dc71704",
   "metadata": {},
   "source": [
    "## Continuous-time non-linear state-space model\n",
    "\n",
    "\\begin{align}\n",
    "\\dot{x}_t & = f(x_t, u_t) + w_t \\\\\n",
    "y_t & = g(x_t) + v_t\n",
    "\\end{align}\n",
    "\n",
    "where\n",
    "\n",
    "\\begin{align}\n",
    "f(x_t, u_t) & : \\text{dynamics} \\\\\n",
    "g(x_t) & : \\text{measurement function} \\\\\n",
    "w_t & : \\text{process noise} \\\\\n",
    "v_t & : \\text{measurement noise} \\\\\n",
    "\\end{align}\n",
    "\n",
    "Define system state, input, and output:\n",
    "\\begin{align}\n",
    "x & = h_1 : \\text{head on the weir } (m) \\\\\n",
    "u & = q_1 : \\text{water addition flow rate } (m^3/s) \\\\\n",
    "y & = h_1\n",
    "\\end{align}\n",
    "\n",
    "Re-write ODE for storage pond in terms of $x$ and $u$:\n",
    "\n",
    "\\begin{align}\n",
    "3.33 (b - 0.2 x) x^{\\frac{3}{2}} + \\frac{\\pi}{\\tan^2{\\alpha}} (x + d)^2 \\dot{x} - u = 0 \\\\\n",
    "\\end{align}\n",
    "\n",
    "Re-arrange:\n",
    "\n",
    "\\begin{align}\n",
    "\\dot{x} & = \\frac{ \\tan^2{\\alpha} } { \\pi (x + d)^2 } \n",
    "            \\left(u - 3.33 (b - 0.2 x) x^{\\frac{3}{2}} \\right)\n",
    "\\end{align}\n",
    "\n",
    "Dynamics and measurement functions for state-space model:\n",
    "\n",
    "\\begin{align}\n",
    "f(x_t, u_t) & : \\frac{ \\tan^2{\\alpha} } { \\pi (x + d)^2 } \n",
    "                \\left(u_t - 3.33 (b - 0.2 x_t) x_t^{\\frac{3}{2}} \\right) \\\\\n",
    "g(x_t) & : x_t\n",
    "\\end{align}\n",
    "\n",
    "\n",
    "\n"
   ]
  },
  {
   "cell_type": "markdown",
   "id": "9cd90a1a",
   "metadata": {},
   "source": [
    "## Python model"
   ]
  },
  {
   "cell_type": "code",
   "execution_count": 2,
   "id": "fce9ac4d",
   "metadata": {},
   "outputs": [],
   "source": [
    "d = 5   # height of weir from deepest point (m)\n",
    "alpha = 10  # inclination of pond walls from vertical (deg)\n",
    "b = 2   # width of the weir (m)\n",
    "c = np.tan(np.deg2rad(alpha)) ** 2 / np.pi  # a constant\n",
    "\n",
    "\n",
    "def f(x, u):\n",
    "    \"\"\"Continuous-time state-space model - dynamics function\n",
    "\n",
    "        d/dt(x[t]) = f(x[t], u[t]) \n",
    "\n",
    "    Arguments\n",
    "    ---------\n",
    "    x : list or array\n",
    "        State vector\n",
    "    u : list or array\n",
    "        Input vector\n",
    "    \"\"\"\n",
    "    # Note: In general x, u could be a vectors therefore indexing is used\n",
    "    h = x[0]  # head on weir\n",
    "    q = u[0]  # water addition rate\n",
    "    assert np.all(h < 0.33 * b), \"Out of bounds\"\n",
    "    return c * (q - 3.33 * (b - 0.2 * h) * h ** 1.5 ) / (h + d) ** 2\n",
    "\n",
    "\n",
    "def g(x):\n",
    "    \"\"\"State-space model - measurement function\n",
    "\n",
    "        y[t] = g(x[t], u[t])\n",
    "\n",
    "    Arguments\n",
    "    ---------\n",
    "    x : list or array\n",
    "        State vector\n",
    "    u : list or array\n",
    "        Input vector\n",
    "    \"\"\"\n",
    "    return x\n",
    "\n",
    "\n",
    "assert(f([0], [0]) == 0)\n",
    "try:\n",
    "    f([0.34 * b], [0])\n",
    "except AssertionError:\n",
    "    pass\n",
    "else:\n",
    "    raise AssertionError(\"Bounds error was not raised\")"
   ]
  },
  {
   "cell_type": "code",
   "execution_count": 3,
   "id": "54dcddad",
   "metadata": {},
   "outputs": [
    {
     "data": {
      "text/plain": [
       "160.8"
      ]
     },
     "execution_count": 3,
     "metadata": {},
     "output_type": "execute_result"
    }
   ],
   "source": [
    "# Calculate lowest radius of pond surface (at height of weir)\n",
    "R0 = d / np.tan(np.deg2rad(alpha)) ** 2\n",
    "round(R0, 1)"
   ]
  },
  {
   "cell_type": "code",
   "execution_count": 4,
   "id": "31c58a25",
   "metadata": {},
   "outputs": [
    {
     "data": {
      "image/png": "[encoded data removed]",
      "text/plain": [
       "<Figure size 432x288 with 1 Axes>"
      ]
     },
     "metadata": {
      "needs_background": "light"
     },
     "output_type": "display_data"
    }
   ],
   "source": [
    "x_values = np.linspace(0, 0.5, 51)\n",
    "u_values = [0, 0.5, 1, 1.5]\n",
    "for u in u_values:\n",
    "    f_values = [f([x], [u]) for x in x_values]\n",
    "    plt.plot(x_values, f_values, label=f\"$u={u} \\quad m^3/s$\")\n",
    "plt.xlabel('x (m)')\n",
    "plt.ylabel('$\\dot{x}$ (m/s)')\n",
    "plt.grid()\n",
    "plt.legend()\n",
    "plt.title(\"Rate-of-change of water level\")\n",
    "plt.show()"
   ]
  },
  {
   "cell_type": "code",
   "execution_count": 5,
   "id": "a12eb42a",
   "metadata": {},
   "outputs": [
    {
     "data": {
      "text/plain": [
       "0.288"
      ]
     },
     "execution_count": 5,
     "metadata": {},
     "output_type": "execute_result"
    }
   ],
   "source": [
    "# Find a stable initial condition\n",
    "u0 = [1]    # water addition flow rate (m^3/s)\n",
    "\n",
    "cost_fun = lambda x : 1e6 * f(x, u0) ** 2\n",
    "res = minimize(cost_fun, 0.3, bounds=[(0, 1)])\n",
    "assert(res.status == 0)\n",
    "assert(res.fun < 1e-8)\n",
    "x0 = res.x[0]\n",
    "y0 = g(x0)\n",
    "round(x0, 3)"
   ]
  },
  {
   "cell_type": "code",
   "execution_count": 6,
   "id": "a0dfae03",
   "metadata": {},
   "outputs": [
    {
     "data": {
      "text/plain": [
       "170.1"
      ]
     },
     "execution_count": 6,
     "metadata": {},
     "output_type": "execute_result"
    }
   ],
   "source": [
    "# Calculate radius of pond surface at initial condition (m)\n",
    "R = (d + x0) / np.tan(np.deg2rad(alpha)) ** 2\n",
    "round(R, 1)"
   ]
  },
  {
   "cell_type": "markdown",
   "id": "9965edb7",
   "metadata": {},
   "source": [
    "## Simulate"
   ]
  },
  {
   "cell_type": "code",
   "execution_count": 7,
   "id": "9dc7259c",
   "metadata": {},
   "outputs": [
    {
     "data": {
      "image/png": "[encoded data removed]",
      "text/plain": [
       "<Figure size 432x288 with 1 Axes>"
      ]
     },
     "metadata": {
      "needs_background": "light"
     },
     "output_type": "display_data"
    }
   ],
   "source": [
    "# Response to initial condition (with u = 0)\n",
    "x = 0.5\n",
    "u = [0]\n",
    "t_span = [0, 100*60]  # seconds\n",
    "dt = 60  # seconds\n",
    "N = np.diff(t_span) / dt + 1\n",
    "\n",
    "fun = lambda t, x: f(x, u)\n",
    "t_eval = dt * np.arange(N)\n",
    "res = solve_ivp(fun, t_span, y0=[x], t_eval=t_eval)\n",
    "assert(res.status == 0)\n",
    "\n",
    "plt.plot(res.t, res.y[0])\n",
    "plt.xlabel('Time (s)')\n",
    "plt.ylabel('y (m)')\n",
    "plt.hlines(0, *t_span, linestyle='--', color='k')\n",
    "plt.grid()"
   ]
  },
  {
   "cell_type": "code",
   "execution_count": 8,
   "id": "63d29dd4",
   "metadata": {},
   "outputs": [
    {
     "data": {
      "text/plain": [
       "803.7"
      ]
     },
     "execution_count": 8,
     "metadata": {},
     "output_type": "execute_result"
    }
   ],
   "source": [
    "# Estimate time constant\n",
    "t_settle_f = interp1d(res.y[0], t_eval)\n",
    "y_63pct = res.y[0][0] * (1 - 0.63)\n",
    "tau = t_settle_f(y_63pct).item()\n",
    "round(tau, 1)"
   ]
  },
  {
   "cell_type": "code",
   "execution_count": 9,
   "id": "aba05c04",
   "metadata": {},
   "outputs": [
    {
     "data": {
      "image/png": "[encoded data removed]",
      "text/plain": [
       "<Figure size 432x288 with 1 Axes>"
      ]
     },
     "metadata": {
      "needs_background": "light"
     },
     "output_type": "display_data"
    }
   ],
   "source": [
    "# Response to step in inflow (x0 = 0)\n",
    "x = 0\n",
    "u = [1]\n",
    "t_span = [0, 100*60]  # seconds\n",
    "dt = 60  # seconds\n",
    "N = np.diff(t_span) / dt + 1\n",
    "\n",
    "fun = lambda t, x: f(x, u)\n",
    "t_eval = dt * np.arange(N)\n",
    "res = solve_ivp(fun, t_span, y0=[x], t_eval=t_eval)\n",
    "assert(res.status == 0)\n",
    "\n",
    "plt.plot(res.t, res.y[0])\n",
    "plt.xlabel('Time (s)')\n",
    "plt.ylabel('y (m)')\n",
    "plt.hlines(0, *t_span, linestyle='--', color='k')\n",
    "plt.grid()"
   ]
  },
  {
   "cell_type": "code",
   "execution_count": 10,
   "id": "df4238e7",
   "metadata": {},
   "outputs": [
    {
     "data": {
      "text/plain": [
       "624.6"
      ]
     },
     "execution_count": 10,
     "metadata": {},
     "output_type": "execute_result"
    }
   ],
   "source": [
    "# Estimate time constant\n",
    "t_settle_f = interp1d(res.y[0], t_eval)\n",
    "y_63pct = res.y[0][-1] * 0.63\n",
    "tau = t_settle_f(y_63pct).item()\n",
    "round(tau, 1)"
   ]
  },
  {
   "cell_type": "code",
   "execution_count": 11,
   "id": "927c25f3",
   "metadata": {},
   "outputs": [
    {
     "data": {
      "image/png": "[encoded data removed]",
      "text/plain": [
       "<Figure size 432x432 with 3 Axes>"
      ]
     },
     "metadata": {
      "needs_background": "light"
     },
     "output_type": "display_data"
    }
   ],
   "source": [
    "# Calculate steady-state conditions\n",
    "# Response to step in inflow (x0 = 0)\n",
    "x = 0\n",
    "u_values = np.linspace(0, np.sqrt(1.5), 16) ** 2\n",
    "u_values = np.linspace(0, 1.3, 14) ** 2\n",
    "\n",
    "t_span = [0, 100*60]  # seconds\n",
    "dt = 5  # seconds\n",
    "N = np.diff(t_span) / dt + 1\n",
    "t_eval = dt * np.arange(N)\n",
    "\n",
    "y_steady_state = []\n",
    "time_constants = []\n",
    "\n",
    "for u in u_values:\n",
    "\n",
    "    # Simulate system\n",
    "    fun = lambda t, x: f(x, [u])\n",
    "    res = solve_ivp(fun, t_span, y0=[x], t_eval=t_eval)\n",
    "    assert(res.status == 0)\n",
    "\n",
    "    # Steady-state output value\n",
    "    y_steady_state.append(res.y[0][-1])\n",
    "\n",
    "    # Estimate time constant\n",
    "    dy = res.y[0][-1] - res.y[0][0]\n",
    "    if dy > 0:\n",
    "        t_settle_f = interp1d(res.y[0] - res.y[0][0], t_eval)\n",
    "        dy_63pct = dy * 0.63\n",
    "        tau = t_settle_f(dy_63pct).item()\n",
    "    else:\n",
    "        tau = np.nan\n",
    "    time_constants.append(tau)\n",
    "\n",
    "    # Use current state in next simulation\n",
    "    x = res.y[0][-1]\n",
    "\n",
    "y_steady_state = np.array(y_steady_state)\n",
    "time_constants = np.array(time_constants)\n",
    "\n",
    "old_settings = np.seterr(all='ignore')  #seterr to known value\n",
    "np.seterr(over='raise')\n",
    "static_gains = y_steady_state / u_values\n",
    "np.seterr(**old_settings)  # reset to default\n",
    "\n",
    "labels = [\"$y_{\\infty}$\", \"$\\Delta{y}/\\Delta{u}$\", \"$T_1$\"]\n",
    "\n",
    "fig, axes = plt.subplots(2, 1, figsize=(6, 6))\n",
    "\n",
    "ax1 = axes[0]\n",
    "ax1.plot(u_values, y_steady_state, 'o-', label=labels[0])\n",
    "ax1.set_ylabel(f\"Steady-state head, {labels[0]} (m)\")\n",
    "ax1.legend()\n",
    "ax1.grid()\n",
    "ax1.set_title('Steady state conditions')\n",
    "\n",
    "ax2 = axes[1]\n",
    "ax2.plot(u_values, time_constants, 'go-', label=labels[2])\n",
    "ax2.set_ylim([None, 1000])\n",
    "ax2.set_xlabel('$u \\quad (m^3/s)$')\n",
    "ax2.set_ylabel(f\"Time constant, {labels[2]} (s)\")\n",
    "ax2.legend(loc='lower left')\n",
    "ax2.grid()\n",
    "ax2.set_title('Static gain and time constant')\n",
    "\n",
    "ax3 = ax2.twinx()\n",
    "ax3.plot(u_values, static_gains, 'ro-', label=labels[1])\n",
    "ax3.set_ylim([None, 0.5])\n",
    "ax3.set_ylabel(f\"Static gain, {labels[1]}\")\n",
    "ax3.legend(loc='upper right')\n",
    "\n",
    "plt.tight_layout()\n",
    "plt.show()"
   ]
  },
  {
   "cell_type": "code",
   "execution_count": 12,
   "id": "2f012e24",
   "metadata": {},
   "outputs": [
    {
     "name": "stdout",
     "output_type": "stream",
     "text": [
      "1, 0.28805, 0.28805\n"
     ]
    }
   ],
   "source": [
    "# Define nominal operating point\n",
    "u_nop, x_nop = 1, y_steady_state[u_values == 1].item()\n",
    "y_nop = g(x_nop)\n",
    "print(f\"{u_nop}, {x_nop:.5f}, {y_nop:.5f}\")"
   ]
  },
  {
   "cell_type": "code",
   "execution_count": null,
   "id": "fa7ec7f5",
   "metadata": {},
   "outputs": [],
   "source": []
  },
  {
   "cell_type": "code",
   "execution_count": null,
   "id": "561124a1",
   "metadata": {},
   "outputs": [],
   "source": []
  },
  {
   "cell_type": "code",
   "execution_count": null,
   "id": "19c1b4b0",
   "metadata": {},
   "outputs": [],
   "source": []
  }
 ],
 "metadata": {
  "kernelspec": {
   "display_name": "Python [conda env:torch]",
   "language": "python",
   "name": "conda-env-torch-py"
  },
  "language_info": {
   "codemirror_mode": {
    "name": "ipython",
    "version": 3
   },
   "file_extension": ".py",
   "mimetype": "text/x-python",
   "name": "python",
   "nbconvert_exporter": "python",
   "pygments_lexer": "ipython3",
   "version": "3.9.12"
  }
 },
 "nbformat": 4,
 "nbformat_minor": 5
}
